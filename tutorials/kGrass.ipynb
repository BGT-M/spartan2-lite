{
 "cells": [
  {
   "cell_type": "code",
   "execution_count": null,
   "metadata": {
    "tags": []
   },
   "outputs": [],
   "source": [
    "# Remember to add spartan to you PATH\n",
    "import spartan as st"
   ]
  },
  {
   "source": [
    "Load example data:"
   ],
   "cell_type": "markdown",
   "metadata": {}
  },
  {
   "cell_type": "code",
   "execution_count": null,
   "metadata": {},
   "outputs": [],
   "source": [
    "data = st.loadTensor(path='./inputData/soc-Epinions1.tensor.gz', header=None, col_idx=[0, 1], col_types=[int, int], sep='\\t')\n",
    "mapper = st.DenseIntMapper()\n",
    "tensor = data.toSTensor(hasvalue=False, mappers={0: mapper, 1: mapper})\n",
    "N = mapper._idx\n",
    "tensor.shape = (N, N)"
   ]
  },
  {
   "cell_type": "code",
   "execution_count": null,
   "metadata": {
    "tags": []
   },
   "outputs": [],
   "source": [
    "print(tensor)"
   ]
  },
  {
   "source": [
    "Convert tensor to graph:"
   ],
   "cell_type": "markdown",
   "metadata": {}
  },
  {
   "cell_type": "code",
   "execution_count": null,
   "metadata": {},
   "outputs": [],
   "source": [
    "graph = st.Graph(tensor)"
   ]
  },
  {
   "cell_type": "markdown",
   "metadata": {},
   "source": [
    "## Run as a model "
   ]
  },
  {
   "cell_type": "code",
   "execution_count": null,
   "metadata": {
    "tags": []
   },
   "outputs": [],
   "source": [
    "model = st.kGrass(graph)"
   ]
  },
  {
   "source": [
    "Run the algorithm and obtain the adjacency matrix of summary graph as return value.\n",
    "\n",
    "`K` is the size of summary graph, and `strategy` is the strategy to get candidate pairs, which can be specified to:\n",
    "* greedy\n",
    "* linear_check\n",
    "* sample_pairs"
   ],
   "cell_type": "markdown",
   "metadata": {}
  },
  {
   "cell_type": "code",
   "execution_count": null,
   "metadata": {
    "tags": []
   },
   "outputs": [],
   "source": [
    "adj_s = model.run(K=75000, strategy='sample_pairs')"
   ]
  },
  {
   "cell_type": "markdown",
   "metadata": {},
   "source": [
    "## Run as a task"
   ]
  },
  {
   "source": [
    "Run the algorithm and obtain the adjacency matrix of summary graph as return value.\n",
    "\n",
    "`K` is the size of summary graph, and `strategy` is the strategy to get candidate pairs, which can be specified to:\n",
    "* greedy\n",
    "* linear_check\n",
    "* sample_pairs"
   ],
   "cell_type": "markdown",
   "metadata": {}
  },
  {
   "cell_type": "code",
   "execution_count": null,
   "metadata": {
    "tags": []
   },
   "outputs": [],
   "source": [
    "task = st.Summarization.create(graph, st.SumPolicy.kGrass, 'kGrass')\n",
    "adj_s = task.run(K=75000, strategy='sample_pairs')"
   ]
  }
 ],
 "metadata": {
  "kernelspec": {
   "display_name": "Python 3",
   "language": "python",
   "name": "python3"
  },
  "language_info": {
   "codemirror_mode": {
    "name": "ipython",
    "version": 3
   },
   "file_extension": ".py",
   "mimetype": "text/x-python",
   "name": "python",
   "nbconvert_exporter": "python",
   "pygments_lexer": "ipython3",
   "version": "3.7.7-final"
  }
 },
 "nbformat": 4,
 "nbformat_minor": 2
}
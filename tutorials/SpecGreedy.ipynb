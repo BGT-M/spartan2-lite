{
 "cells": [
  {
   "cell_type": "markdown",
   "metadata": {},
   "source": [
    "# SpecGreedy_demo"
   ]
  },
  {
   "cell_type": "code",
   "execution_count": null,
   "metadata": {},
   "outputs": [],
   "source": [
    "import spartan as st"
   ]
  },
  {
   "cell_type": "markdown",
   "metadata": {},
   "source": [
    "Using backend cpu"
   ]
  },
  {
   "cell_type": "code",
   "execution_count": null,
   "metadata": {},
   "outputs": [],
   "source": [
    "# load graph data\n",
    "tensor = st.loadTensor(path = \"inputData/plain_graph_small.zip\", col_types = [int, int], sep=' ')\n",
    "\n",
    "stensor = tensor.toSTensor(hasvalue=False)"
   ]
  },
  {
   "cell_type": "code",
   "execution_count": null,
   "metadata": {},
   "outputs": [],
   "source": [
    "# create a anomaly detection model\n",
    "sg = st.SpecGreedy(stensor)"
   ]
  },
  {
   "cell_type": "code",
   "execution_count": null,
   "metadata": {},
   "outputs": [],
   "source": [
    "# run the model\n",
    "sg.run(bipartite=True, T=5)"
   ]
  },
  {
   "cell_type": "markdown",
   "metadata": {},
   "source": [
    "Specgreedy for find 5 dense subgraphs.  \n",
    "\n",
    "Running for 0-th subgraph  \n",
    "load graph time @ 0.00019621849060058594s  \n",
    "graph: #node: (500, 497),  #edge: 898  \n",
    "matrix max: 1, min: 0, shape: (500, 497)  \n",
    "\n",
    "Finding subgraph with top k singular values: 5  \n",
    "\n",
    "Computing top3 singular vectors and values for efficency  \n",
    "lambdas: [20.05570202 11.44552314  7.        ]  \n",
    "k_cur: 0 size: (20, 20), density: 5.0  @ 0.013283252716064453s  \n",
    "Update. svd tops shape (candidates size): (20, 20)  \n",
    "Update. size: (20, 20), score: 5.0  \n",
    "\n",
    "Early Stopped. k_cur: 0,  optimal density: 5.0, lambda_k: 11.44552314225961  \n",
    "\n",
    "optimal k: 2, density: 5.0  \n",
    "total time @ 0.013421773910522461s  \n",
    "score obtained is  5.0   \n",
    "\n",
    "Running for 1-th subgraph  \n",
    "load graph time @ 8.511543273925781e-05s  \n",
    "graph: #node: (500, 497),  #edge: 498  \n",
    "matrix max: 1, min: 0, shape: (500, 497)  \n",
    "\n",
    "Finding subgraph with top k singular values: 5  \n",
    "\n",
    "Computing top3 singular vectors and values for efficency  \n",
    "lambdas: [11.44552314  7.          6.        ]  \n",
    "SKIP: candidates sizes are too small: (131, 1)  \n",
    "SKIP: candidates sizes are too small: (49, 1)  \n",
    "\n",
    "Computing top6 singular vectors and values for efficency  \n",
    "lambdas: [11.44552314  7.          6.          5.57075366  5.4000571   5.10293408]  \n",
    "SKIP: candidates sizes are too small: (36, 1)  \n",
    "SKIP: candidates sizes are too small: (31, 1)  \n",
    "SKIP: candidates sizes are too small: (29, 1)  \n",
    "No dense subgraphs found.  \n",
    "score obtained is  0  \n",
    "Finding subgraph failed. Specgreedy stopped.  "
   ]
  }
 ],
 "metadata": {
  "kernelspec": {
   "display_name": "Python 3",
   "language": "python",
   "name": "python3"
  },
  "language_info": {
   "codemirror_mode": {
    "name": "ipython",
    "version": 3
   },
   "file_extension": ".py",
   "mimetype": "text/x-python",
   "name": "python",
   "nbconvert_exporter": "python",
   "pygments_lexer": "ipython3",
   "version": "3.7.4"
  }
 },
 "nbformat": 4,
 "nbformat_minor": 2
}

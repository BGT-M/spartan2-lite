{
 "cells": [
  {
   "cell_type": "markdown",
   "metadata": {},
   "source": [
    "## EigenPulse Detecting Surges in Large Streaming Graphs with Row Augmentation\n",
    "EigenPulse is a streaming algorithm to detect surges of sliding windows in real time.\n",
    "### Abstract\n",
    "How can we spot dense blocks in a large streaming graph efficiently? Anomalies such as fraudulent attacks, spamming, and DDoS attacks, can create dense blocks in a short time window, emerging a surge of density in a streaming graph. However, most existing methods detect dense blocks in a static graph or a snapshot of dynamic graphs, which need to inefficiently rerun the algorithms for a streaming graph. Moreover, some works on streaming graphs are either consuming much time on updating algorithm for every incoming edge, or spotting the whole snapshot of a graph instead of the attacking sub-block. Therefore, we propose a row-augmented matrix with sliding window to model a streaming graph, and design the AugSVD algorithm for computation- and memory-efficient singular decomposition. EigenP ulse is then proposed to spot the density surges in streaming graphs based on the singular spectrum. We theoretically analyze the robustness of our method. Experiments on real datasets with injections show our perfor- mance and efficiency compared with the state-of-the-art baseline."
   ]
  },
  {
   "cell_type": "code",
   "execution_count": 12,
   "metadata": {},
   "outputs": [],
   "source": [
    "import spartan as st"
   ]
  },
  {
   "cell_type": "code",
   "execution_count": 13,
   "metadata": {},
   "outputs": [],
   "source": [
    "import gzip\n",
    "f = gzip.open(\"./inputData/test_beer.tensor.gz\")"
   ]
  },
  {
   "cell_type": "markdown",
   "metadata": {},
   "source": [
    "### Function loadTensorStream():\n",
    "tensor_data.data has multiple-colum attributes, and a single-colum values (optional). The following table shows an example of 10000 three-tuple (user, object, time) and the 4th-colum is the frequency. \n",
    "\n",
    "**f:**: file iterator of input file"
   ]
  },
  {
   "cell_type": "code",
   "execution_count": 14,
   "metadata": {},
   "outputs": [],
   "source": [
    "tensor_stream = st.TensorStream(f, col_idx = [0,1,2,3], col_types=[int,int,int,int], sep=',', mappers={},hasvalue=True)"
   ]
  },
  {
   "cell_type": "markdown",
   "metadata": {},
   "source": [
    "### Class TensorStream\n",
    "**Input**\n",
    "\n",
    "**f**: file iterator of input file\n",
    "\n",
    "**col_idx**: list of the columns to process\n",
    "\n",
    "**col_types**: list of data types of the columns to process\n",
    "\n",
    "**sep**: the delimeter of input file\n",
    "\n",
    "**mappers**: dict of idx-mapper dict, we have defined various mappers. \n",
    "\n",
    "StringMapper: mapping the names or complex string ids of users and objects into indices. \n",
    "\n",
    "ScoreMapper: mapping score (int or float) into index (int).\n",
    "\n",
    "TimeMapper: mapping the time(string) with some formats into timestamps (int).\n",
    "\n",
    "**hasvalue**: Whether \"tensor_data.data\" contains a single-colum values (optional) or not.\n",
    "\n",
    "**Return**\n",
    "\n",
    "an instance of TensorStream class."
   ]
  },
  {
   "cell_type": "markdown",
   "metadata": {},
   "source": [
    "### Run EigenPulse as a single model"
   ]
  },
  {
   "cell_type": "code",
   "execution_count": 15,
   "metadata": {},
   "outputs": [],
   "source": [
    "param_dict={'window':20, 'stride':10, 'l':20, 'b':10,'item_idx':1,'ts_idx':2}\n",
    "eigenpulse = st.EigenPulse(tensor_stream, **param_dict)"
   ]
  },
  {
   "cell_type": "markdown",
   "metadata": {},
   "source": [
    "### the parameters of EigenPulse model\n",
    "\n",
    "**window**: the window size of sliding window in a time unit\n",
    "\n",
    "**stride**: the stride size in a time unit.\n",
    "\n",
    "**l and b**: hyper-parameters of Algorithm 1.\n",
    "\n",
    "**item_idx**: the column index of item attribute. \n",
    "\n",
    "**ts_idx**: the column index of time attribute.\n",
    "\n",
    "EigenPulse first concentrates items by the time as row, user as column, and thus the row of modified tensor grows with the forward of time. We model the streaming tuples as row-augmented matrix in this way."
   ]
  },
  {
   "cell_type": "code",
   "execution_count": 16,
   "metadata": {},
   "outputs": [
    {
     "name": "stdout",
     "output_type": "stream",
     "text": [
      "density of dense submatrix in window 0 is 15.09\n",
      "density of dense submatrix in window 1 is 5.93\n",
      "density of dense submatrix in window 2 is 15.3\n",
      "density of dense submatrix in window 3 is 6.03\n",
      "density of dense submatrix in window 4 is 8.32\n",
      "density of dense submatrix in window 5 is 9.17\n",
      "density of dense submatrix in window 6 is 8.12\n",
      "density of dense submatrix in window 7 is 10.42\n",
      "density of dense submatrix in window 8 is 9.04\n",
      "density of dense submatrix in window 9 is 6.38\n",
      "density of dense submatrix in window 10 is 8.81\n",
      "density of dense submatrix in window 11 is 8.92\n",
      "density of dense submatrix in window 12 is 5.24\n",
      "density of dense submatrix in window 13 is 10.03\n",
      "density of each window: [15.09, 5.93, 15.3, 6.03, 8.32, 9.17, 8.12, 10.42, 9.04, 6.38, 8.81, 8.92, 5.24, 10.03]\n",
      "mean:9.057142857142855, std val:3.0428641077152916, thres:18.18573518028873\n",
      "suspicious windows: []\n"
     ]
    }
   ],
   "source": [
    "res, densities = eigenpulse.run()"
   ]
  },
  {
   "cell_type": "markdown",
   "metadata": {},
   "source": [
    "**res**: suspicious blocks whose densities are above the threshold. For each block, the results are the index of window, the lists of suspicious users, objects and times, and the density of block.\n",
    "\n",
    "**densities**: list of the density of all windows"
   ]
  },
  {
   "cell_type": "code",
   "execution_count": 17,
   "metadata": {},
   "outputs": [
    {
     "data": {
      "image/png": "[encoded data removed]",
      "text/plain": [
       "<Figure size 432x288 with 1 Axes>"
      ]
     },
     "metadata": {
      "needs_background": "light"
     },
     "output_type": "display_data"
    }
   ],
   "source": [
    "st.drawEigenPulse(densities, figpath='images/eigenDensities.png')"
   ]
  },
  {
   "cell_type": "markdown",
   "metadata": {},
   "source": [
    "**figpath**: output path of the plot drawing the densities of all windows and the density threshold ($\\mu+3\\sigma$).\n",
    "\n",
    "The plot is like this:\n",
    "    <img src=\"images/eigenDensities.png\" width=\"500\"/> "
   ]
  },
  {
   "cell_type": "markdown",
   "metadata": {},
   "source": [
    "### Run EigenPulse from anomaly detection task"
   ]
  },
  {
   "cell_type": "code",
   "execution_count": 21,
   "metadata": {},
   "outputs": [],
   "source": [
    "f = gzip.open(\"./inputData/test_beer.tensor.gz\")\n",
    "tensor_stream = st.TensorStream(f, col_idx = [0,1,2,3], col_types=[int,int,int,int], sep=',', mappers={},hasvalue=True)"
   ]
  },
  {
   "cell_type": "code",
   "execution_count": 22,
   "metadata": {},
   "outputs": [],
   "source": [
    "ad_model = st.AnomalyDetection.create(tensor_stream, st.ADPolicy.EigenPulse, 'eigenpulse',**param_dict)"
   ]
  },
  {
   "cell_type": "code",
   "execution_count": 23,
   "metadata": {},
   "outputs": [
    {
     "name": "stdout",
     "output_type": "stream",
     "text": [
      "density of dense submatrix in window 0 is 6.36\n",
      "density of dense submatrix in window 1 is 8.93\n",
      "density of dense submatrix in window 2 is 10.36\n",
      "density of dense submatrix in window 3 is 8.53\n",
      "density of dense submatrix in window 4 is 8.16\n",
      "density of dense submatrix in window 5 is 6.48\n",
      "density of dense submatrix in window 6 is 8.02\n",
      "density of dense submatrix in window 7 is 6.59\n",
      "density of dense submatrix in window 8 is 11.8\n",
      "density of dense submatrix in window 9 is 8.84\n",
      "density of dense submatrix in window 10 is 4.74\n",
      "density of dense submatrix in window 11 is 6.28\n",
      "density of dense submatrix in window 12 is 8.2\n",
      "density of dense submatrix in window 13 is 7.34\n",
      "density of each window: [6.36, 8.93, 10.36, 8.53, 8.16, 6.48, 8.02, 6.59, 11.8, 8.84, 4.74, 6.28, 8.2, 7.34]\n",
      "mean:7.902142857142858, std val:1.8145276078253643, thres:13.345725680618951\n",
      "suspicious windows: []\n"
     ]
    }
   ],
   "source": [
    "res, densities = ad_model.run()"
   ]
  },
  {
   "cell_type": "markdown",
   "metadata": {},
   "source": [
    "### Experimental results:\n",
    "-----\n",
    "EigenPulse (performance)       |  EigenPulse (inject attacks)\n",
    ":-------------------------:|:-------------------------:\n",
    "<img src=\"images/eigen_performance.png\" width=\"300\"/>  |   <img src=\"images/eigeninject.png\" width=\"300\"/>\n",
    "<b>EigenPulse detection on real Sina Weibo data |  <b>EigenPulse is near linear\n",
    "<img src=\"images/eigenweibo.png\" width=\"300\"/> |   <img src=\"images/eigenlinear.png\" width=\"300\"/>\n"
   ]
  },
  {
   "cell_type": "markdown",
   "metadata": {},
   "source": [
    "### Cite:\n",
    "Zhang J, Liu S, Yu W, et al. Eigenpulse: Detecting surges in large streaming graphs with row augmentation[C]//Pacific-Asia Conference on Knowledge Discovery and Data Mining. Springer, Cham, 2019: 501-513.\n",
    "\n",
    "<details>\n",
    "    <summary><span style=\"color:blue\">click for BibTex...</span></summary>\n",
    "\n",
    "```bibtex\n",
    "@inproceedings{zhang2019eigenpulse,\n",
    "      title={Eigenpulse: Detecting surges in large streaming graphs with row augmentation},\n",
    "      author={Zhang, Jiabao and Liu, Shenghua and Yu, Wenjian and Feng, Wenjie and Cheng, Xueqi},\n",
    "      booktitle={Pacific-Asia Conference on Knowledge Discovery and Data Mining},\n",
    "      pages={501--513},\n",
    "      year={2019},\n",
    "      organization={Springer}\n",
    "    }\n",
    " ```\n",
    "</details>  "
   ]
  }
 ],
 "metadata": {
  "kernelspec": {
   "display_name": "Python 36",
   "language": "python",
   "name": "python3"
  },
  "language_info": {
   "codemirror_mode": {
    "name": "ipython",
    "version": 3
   },
   "file_extension": ".py",
   "mimetype": "text/x-python",
   "name": "python",
   "nbconvert_exporter": "python",
   "pygments_lexer": "ipython3",
   "version": "3.6.13"
  }
 },
 "nbformat": 4,
 "nbformat_minor": 2
}

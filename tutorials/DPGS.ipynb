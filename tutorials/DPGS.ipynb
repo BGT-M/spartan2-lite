{
 "cells": [
  {
   "source": [
    "## DPGS: Degree-Preserving Graph Summarization\n",
    "\n",
    "DPGS is a graph summarization method using a reconstruction scheme based on configuration model. To find a good summary, DPGS adopts MDL (Minimum Description Length) principle and uses a greedy algorithm to merge node pairs.\n",
    "\n",
    "Due to the degree-perservation property, DPGS is able to keep the spectra of Laplacian matrix.\n",
    "\n",
    "<img src=\"./images/DPGS_reconstruction.png\" alt=\"drawing\" width=\"50%\"/>\n",
    "\n",
    "### Abstract\n",
    "\n",
    "Given a large graph, how can we summarize it with fewer nodes and edges while maintaining its key properties? As a solution, graph summarization, which aims to find a compact representation of the given graph and minimizes the reconstruction error, has received much attention, and numerous methods have been developed for it. However, most of the existing works adopt the uniform reconstruction scheme, which is based on an unrealistic assumption that edges are uniformly distributed. In this work, we propose a novel and realistic reconstruction scheme, which preserves the degree of nodes, and we develop an efficient graph summarization method called DPGS based on the Minimum Description Length principle. We theoretically show that the minimized reconstruction error of the summary graph can bound the perturbation of graph spectral information. Extensive experiments on real-world datasets show that DPGS yields more accurate summary graphs, and we can effectively train a graph neural network (GNN) on a much smaller summary graph for original node classification.\n"
   ],
   "cell_type": "markdown",
   "metadata": {}
  },
  {
   "cell_type": "code",
   "execution_count": 13,
   "metadata": {
    "tags": []
   },
   "outputs": [],
   "source": [
    "# Remember to add spartan to you PATH\n",
    "import spartan as st"
   ]
  },
  {
   "source": [
    "Load example data:"
   ],
   "cell_type": "markdown",
   "metadata": {}
  },
  {
   "cell_type": "code",
   "execution_count": null,
   "metadata": {},
   "outputs": [],
   "source": [
    "data = st.loadTensor(path='./inputData/soc-Epinions1.tensor.gz', header=None, col_idx=[0, 1], col_types=[int, int], sep='\\t')\n",
    "mapper = st.DenseIntMapper()\n",
    "tensor = data.toSTensor(hasvalue=False, mappers={0: mapper, 1: mapper})\n",
    "N = mapper._idx\n",
    "tensor.shape = (N, N)"
   ]
  },
  {
   "cell_type": "code",
   "execution_count": null,
   "metadata": {
    "tags": []
   },
   "outputs": [],
   "source": [
    "print(tensor)"
   ]
  },
  {
   "source": [
    "Convert tensor to graph:"
   ],
   "cell_type": "markdown",
   "metadata": {}
  },
  {
   "cell_type": "code",
   "execution_count": null,
   "metadata": {},
   "outputs": [],
   "source": [
    "graph = st.Graph(tensor)"
   ]
  },
  {
   "cell_type": "markdown",
   "metadata": {},
   "source": [
    "## Run as a model "
   ]
  },
  {
   "cell_type": "code",
   "execution_count": null,
   "metadata": {
    "tags": []
   },
   "outputs": [],
   "source": [
    "model = st.DPGS(graph)"
   ]
  },
  {
   "source": [
    "Run the algorithm and obtain the adjacency matrix of summary graph as return value:"
   ],
   "cell_type": "markdown",
   "metadata": {}
  },
  {
   "cell_type": "code",
   "execution_count": null,
   "metadata": {
    "tags": []
   },
   "outputs": [],
   "source": [
    "adj_s = model.run(T=5)"
   ]
  },
  {
   "cell_type": "markdown",
   "metadata": {},
   "source": [
    "## Run as a task"
   ]
  },
  {
   "source": [
    "Run the algorithm and obtain the adjacency matrix of summary graph as return value:"
   ],
   "cell_type": "markdown",
   "metadata": {}
  },
  {
   "cell_type": "code",
   "execution_count": null,
   "metadata": {
    "tags": []
   },
   "outputs": [],
   "source": [
    "task = st.Summarization.create(graph, st.SumPolicy.DPGS, 'DPGS')\n",
    "adj_s = task.run(T=5)"
   ]
  },
  {
   "cell_type": "code",
   "execution_count": null,
   "metadata": {},
   "outputs": [],
   "source": []
  },
  {
   "source": [
    "### Experimental results\n",
    "\n",
    "DPGS obtains shorter encoding length.\n",
    "\n",
    "<img src=\"./images/DPGS_MDL.png\" alt=\"drawing\" width=\"50%\"/>\n",
    "\n",
    "DPGS for GNN training.\n",
    "\n",
    "<img src=\"./images/DPGS_GNN.png\" alt=\"drawing\" width=\"25%\"/>"
   ],
   "cell_type": "markdown",
   "metadata": {}
  },
  {
   "source": [
    "### Cite\n",
    "\n",
    "Houquan Zhou, Shenghua Liu, Kyuhan Lee, Kijung Shin, Huawei Shen and Xueqi Cheng. \"DPGS: Degree-Preserving Graph Summarization.\" In SDM 2021.\n",
    "\n",
    "\n",
    "### Code\n",
    "\n",
    "The source code of DPGS can be found at [github repository](https://github.com/HQJo/DPGS)."
   ],
   "cell_type": "markdown",
   "metadata": {}
  }
 ],
 "metadata": {
  "kernelspec": {
   "display_name": "Python 3",
   "language": "python",
   "name": "python3"
  },
  "language_info": {
   "codemirror_mode": {
    "name": "ipython",
    "version": 3
   },
   "file_extension": ".py",
   "mimetype": "text/x-python",
   "name": "python",
   "nbconvert_exporter": "python",
   "pygments_lexer": "ipython3",
   "version": "3.7.7-final"
  }
 },
 "nbformat": 4,
 "nbformat_minor": 2
}